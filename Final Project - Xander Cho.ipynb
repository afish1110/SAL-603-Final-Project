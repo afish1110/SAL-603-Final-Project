{
 "cells": [
  {
   "cell_type": "code",
   "execution_count": 1,
   "id": "6e959ba3-aa1c-49c9-a781-3e91b8659c40",
   "metadata": {},
   "outputs": [],
   "source": [
    "from IPython.core.interactiveshell import InteractiveShell\n",
    "InteractiveShell.ast_node_interactivity = \"all\"\n",
    "import pandas as pd\n",
    "import numpy as np\n",
    "import seaborn as sns\n",
    "import matplotlib.pyplot as plt"
   ]
  },
  {
   "cell_type": "code",
   "execution_count": 2,
   "id": "bf10a817-a1f4-4f61-86b5-845cc7da815e",
   "metadata": {
    "scrolled": true
   },
   "outputs": [
    {
     "data": {
      "text/html": [
       "<div>\n",
       "<style scoped>\n",
       "    .dataframe tbody tr th:only-of-type {\n",
       "        vertical-align: middle;\n",
       "    }\n",
       "\n",
       "    .dataframe tbody tr th {\n",
       "        vertical-align: top;\n",
       "    }\n",
       "\n",
       "    .dataframe thead th {\n",
       "        text-align: right;\n",
       "    }\n",
       "</style>\n",
       "<table border=\"1\" class=\"dataframe\">\n",
       "  <thead>\n",
       "    <tr style=\"text-align: right;\">\n",
       "      <th></th>\n",
       "      <th>Season</th>\n",
       "      <th>Name</th>\n",
       "      <th>Team</th>\n",
       "      <th>K/9</th>\n",
       "      <th>BB/9</th>\n",
       "      <th>K/BB</th>\n",
       "      <th>HR/9</th>\n",
       "      <th>K%</th>\n",
       "      <th>BB%</th>\n",
       "      <th>K-BB%</th>\n",
       "      <th>...</th>\n",
       "      <th>FIP-</th>\n",
       "      <th>xFIP-</th>\n",
       "      <th>ERA</th>\n",
       "      <th>FIP</th>\n",
       "      <th>E-F</th>\n",
       "      <th>xFIP</th>\n",
       "      <th>SIERA</th>\n",
       "      <th>NameASCII</th>\n",
       "      <th>PlayerId</th>\n",
       "      <th>MLBAMID</th>\n",
       "    </tr>\n",
       "  </thead>\n",
       "  <tbody>\n",
       "    <tr>\n",
       "      <th>0</th>\n",
       "      <td>2010</td>\n",
       "      <td>Félix Hernández</td>\n",
       "      <td>SEA</td>\n",
       "      <td>8.363151</td>\n",
       "      <td>2.523364</td>\n",
       "      <td>3.314286</td>\n",
       "      <td>0.612817</td>\n",
       "      <td>0.231768</td>\n",
       "      <td>0.069930</td>\n",
       "      <td>0.161838</td>\n",
       "      <td>...</td>\n",
       "      <td>75.289038</td>\n",
       "      <td>75.063792</td>\n",
       "      <td>2.271028</td>\n",
       "      <td>3.041794</td>\n",
       "      <td>-0.770766</td>\n",
       "      <td>3.139802</td>\n",
       "      <td>3.182343</td>\n",
       "      <td>Felix Hernandez</td>\n",
       "      <td>4772</td>\n",
       "      <td>433587</td>\n",
       "    </tr>\n",
       "    <tr>\n",
       "      <th>1</th>\n",
       "      <td>2010</td>\n",
       "      <td>Roy Halladay</td>\n",
       "      <td>PHI</td>\n",
       "      <td>7.863032</td>\n",
       "      <td>1.077128</td>\n",
       "      <td>7.300000</td>\n",
       "      <td>0.861702</td>\n",
       "      <td>0.220544</td>\n",
       "      <td>0.030211</td>\n",
       "      <td>0.190332</td>\n",
       "      <td>...</td>\n",
       "      <td>75.223721</td>\n",
       "      <td>70.245439</td>\n",
       "      <td>2.441489</td>\n",
       "      <td>3.006034</td>\n",
       "      <td>-0.564545</td>\n",
       "      <td>2.799082</td>\n",
       "      <td>2.883465</td>\n",
       "      <td>Roy Halladay</td>\n",
       "      <td>1303</td>\n",
       "      <td>136880</td>\n",
       "    </tr>\n",
       "    <tr>\n",
       "      <th>0</th>\n",
       "      <td>2011</td>\n",
       "      <td>Justin Verlander</td>\n",
       "      <td>DET</td>\n",
       "      <td>8.964143</td>\n",
       "      <td>2.043825</td>\n",
       "      <td>4.385965</td>\n",
       "      <td>0.860558</td>\n",
       "      <td>0.257998</td>\n",
       "      <td>0.058824</td>\n",
       "      <td>0.199174</td>\n",
       "      <td>...</td>\n",
       "      <td>73.857591</td>\n",
       "      <td>77.340404</td>\n",
       "      <td>2.402390</td>\n",
       "      <td>2.993514</td>\n",
       "      <td>-0.591123</td>\n",
       "      <td>3.121858</td>\n",
       "      <td>2.981458</td>\n",
       "      <td>Justin Verlander</td>\n",
       "      <td>8700</td>\n",
       "      <td>434378</td>\n",
       "    </tr>\n",
       "    <tr>\n",
       "      <th>1</th>\n",
       "      <td>2011</td>\n",
       "      <td>Clayton Kershaw</td>\n",
       "      <td>LAD</td>\n",
       "      <td>9.565714</td>\n",
       "      <td>2.082857</td>\n",
       "      <td>4.592593</td>\n",
       "      <td>0.578571</td>\n",
       "      <td>0.271930</td>\n",
       "      <td>0.059211</td>\n",
       "      <td>0.212719</td>\n",
       "      <td>...</td>\n",
       "      <td>64.619049</td>\n",
       "      <td>73.631808</td>\n",
       "      <td>2.275714</td>\n",
       "      <td>2.468243</td>\n",
       "      <td>-0.192529</td>\n",
       "      <td>2.843920</td>\n",
       "      <td>2.800882</td>\n",
       "      <td>Clayton Kershaw</td>\n",
       "      <td>2036</td>\n",
       "      <td>477132</td>\n",
       "    </tr>\n",
       "    <tr>\n",
       "      <th>0</th>\n",
       "      <td>2012</td>\n",
       "      <td>R.A. Dickey</td>\n",
       "      <td>NYM</td>\n",
       "      <td>8.858774</td>\n",
       "      <td>2.079886</td>\n",
       "      <td>4.259259</td>\n",
       "      <td>0.924394</td>\n",
       "      <td>0.248112</td>\n",
       "      <td>0.058252</td>\n",
       "      <td>0.189860</td>\n",
       "      <td>...</td>\n",
       "      <td>83.555098</td>\n",
       "      <td>83.756633</td>\n",
       "      <td>2.734665</td>\n",
       "      <td>3.269916</td>\n",
       "      <td>-0.535251</td>\n",
       "      <td>3.266788</td>\n",
       "      <td>3.247510</td>\n",
       "      <td>R.A. Dickey</td>\n",
       "      <td>1245</td>\n",
       "      <td>285079</td>\n",
       "    </tr>\n",
       "    <tr>\n",
       "      <th>1</th>\n",
       "      <td>2012</td>\n",
       "      <td>David Price</td>\n",
       "      <td>TBR</td>\n",
       "      <td>8.744076</td>\n",
       "      <td>2.516588</td>\n",
       "      <td>3.474576</td>\n",
       "      <td>0.682465</td>\n",
       "      <td>0.245215</td>\n",
       "      <td>0.070574</td>\n",
       "      <td>0.174641</td>\n",
       "      <td>...</td>\n",
       "      <td>74.799980</td>\n",
       "      <td>75.129573</td>\n",
       "      <td>2.559242</td>\n",
       "      <td>3.047059</td>\n",
       "      <td>-0.487817</td>\n",
       "      <td>3.118974</td>\n",
       "      <td>3.232572</td>\n",
       "      <td>David Price</td>\n",
       "      <td>3184</td>\n",
       "      <td>456034</td>\n",
       "    </tr>\n",
       "    <tr>\n",
       "      <th>0</th>\n",
       "      <td>2013</td>\n",
       "      <td>Clayton Kershaw</td>\n",
       "      <td>LAD</td>\n",
       "      <td>8.847458</td>\n",
       "      <td>1.983051</td>\n",
       "      <td>4.461538</td>\n",
       "      <td>0.419492</td>\n",
       "      <td>0.255507</td>\n",
       "      <td>0.057269</td>\n",
       "      <td>0.198238</td>\n",
       "      <td>...</td>\n",
       "      <td>63.623887</td>\n",
       "      <td>76.171753</td>\n",
       "      <td>1.830508</td>\n",
       "      <td>2.386837</td>\n",
       "      <td>-0.556329</td>\n",
       "      <td>2.874986</td>\n",
       "      <td>2.988544</td>\n",
       "      <td>Clayton Kershaw</td>\n",
       "      <td>2036</td>\n",
       "      <td>477132</td>\n",
       "    </tr>\n",
       "    <tr>\n",
       "      <th>1</th>\n",
       "      <td>2013</td>\n",
       "      <td>Max Scherzer</td>\n",
       "      <td>DET</td>\n",
       "      <td>10.077761</td>\n",
       "      <td>2.351478</td>\n",
       "      <td>4.285714</td>\n",
       "      <td>0.755832</td>\n",
       "      <td>0.287081</td>\n",
       "      <td>0.066986</td>\n",
       "      <td>0.220096</td>\n",
       "      <td>...</td>\n",
       "      <td>68.993894</td>\n",
       "      <td>79.791189</td>\n",
       "      <td>2.897356</td>\n",
       "      <td>2.739923</td>\n",
       "      <td>0.157433</td>\n",
       "      <td>3.158795</td>\n",
       "      <td>2.909397</td>\n",
       "      <td>Max Scherzer</td>\n",
       "      <td>3137</td>\n",
       "      <td>453286</td>\n",
       "    </tr>\n",
       "    <tr>\n",
       "      <th>0</th>\n",
       "      <td>2014</td>\n",
       "      <td>Corey Kluber</td>\n",
       "      <td>CLE</td>\n",
       "      <td>10.272985</td>\n",
       "      <td>1.947666</td>\n",
       "      <td>5.274510</td>\n",
       "      <td>0.534653</td>\n",
       "      <td>0.282860</td>\n",
       "      <td>0.053628</td>\n",
       "      <td>0.229232</td>\n",
       "      <td>...</td>\n",
       "      <td>61.909623</td>\n",
       "      <td>67.963127</td>\n",
       "      <td>2.444130</td>\n",
       "      <td>2.347245</td>\n",
       "      <td>0.096885</td>\n",
       "      <td>2.566182</td>\n",
       "      <td>2.612153</td>\n",
       "      <td>Corey Kluber</td>\n",
       "      <td>2429</td>\n",
       "      <td>446372</td>\n",
       "    </tr>\n",
       "    <tr>\n",
       "      <th>1</th>\n",
       "      <td>2014</td>\n",
       "      <td>Clayton Kershaw</td>\n",
       "      <td>LAD</td>\n",
       "      <td>10.845378</td>\n",
       "      <td>1.406723</td>\n",
       "      <td>7.709677</td>\n",
       "      <td>0.408403</td>\n",
       "      <td>0.319092</td>\n",
       "      <td>0.041389</td>\n",
       "      <td>0.277704</td>\n",
       "      <td>...</td>\n",
       "      <td>49.402342</td>\n",
       "      <td>55.845476</td>\n",
       "      <td>1.769748</td>\n",
       "      <td>1.811244</td>\n",
       "      <td>-0.041496</td>\n",
       "      <td>2.075074</td>\n",
       "      <td>2.087370</td>\n",
       "      <td>Clayton Kershaw</td>\n",
       "      <td>2036</td>\n",
       "      <td>477132</td>\n",
       "    </tr>\n",
       "    <tr>\n",
       "      <th>0</th>\n",
       "      <td>2015</td>\n",
       "      <td>Dallas Keuchel</td>\n",
       "      <td>HOU</td>\n",
       "      <td>8.379310</td>\n",
       "      <td>1.978448</td>\n",
       "      <td>4.235294</td>\n",
       "      <td>0.659483</td>\n",
       "      <td>0.237102</td>\n",
       "      <td>0.055982</td>\n",
       "      <td>0.181120</td>\n",
       "      <td>...</td>\n",
       "      <td>72.150603</td>\n",
       "      <td>67.858596</td>\n",
       "      <td>2.482758</td>\n",
       "      <td>2.909456</td>\n",
       "      <td>-0.426697</td>\n",
       "      <td>2.751953</td>\n",
       "      <td>2.839081</td>\n",
       "      <td>Dallas Keuchel</td>\n",
       "      <td>9434</td>\n",
       "      <td>572971</td>\n",
       "    </tr>\n",
       "    <tr>\n",
       "      <th>1</th>\n",
       "      <td>2015</td>\n",
       "      <td>Jake Arrieta</td>\n",
       "      <td>CHC</td>\n",
       "      <td>9.275109</td>\n",
       "      <td>1.886463</td>\n",
       "      <td>4.916667</td>\n",
       "      <td>0.393013</td>\n",
       "      <td>0.271264</td>\n",
       "      <td>0.055172</td>\n",
       "      <td>0.216092</td>\n",
       "      <td>...</td>\n",
       "      <td>60.561019</td>\n",
       "      <td>67.506423</td>\n",
       "      <td>1.768559</td>\n",
       "      <td>2.347568</td>\n",
       "      <td>-0.579009</td>\n",
       "      <td>2.611157</td>\n",
       "      <td>2.745920</td>\n",
       "      <td>Jake Arrieta</td>\n",
       "      <td>4153</td>\n",
       "      <td>453562</td>\n",
       "    </tr>\n",
       "    <tr>\n",
       "      <th>0</th>\n",
       "      <td>2016</td>\n",
       "      <td>Rick Porcello</td>\n",
       "      <td>BOS</td>\n",
       "      <td>7.627803</td>\n",
       "      <td>1.291480</td>\n",
       "      <td>5.906250</td>\n",
       "      <td>0.928251</td>\n",
       "      <td>0.212360</td>\n",
       "      <td>0.035955</td>\n",
       "      <td>0.176404</td>\n",
       "      <td>...</td>\n",
       "      <td>80.850074</td>\n",
       "      <td>91.589261</td>\n",
       "      <td>3.147982</td>\n",
       "      <td>3.397681</td>\n",
       "      <td>-0.249699</td>\n",
       "      <td>3.894263</td>\n",
       "      <td>3.779484</td>\n",
       "      <td>Rick Porcello</td>\n",
       "      <td>2717</td>\n",
       "      <td>519144</td>\n",
       "    </tr>\n",
       "    <tr>\n",
       "      <th>1</th>\n",
       "      <td>2016</td>\n",
       "      <td>Max Scherzer</td>\n",
       "      <td>WSN</td>\n",
       "      <td>11.194161</td>\n",
       "      <td>2.207299</td>\n",
       "      <td>5.071429</td>\n",
       "      <td>1.221898</td>\n",
       "      <td>0.314856</td>\n",
       "      <td>0.062084</td>\n",
       "      <td>0.252772</td>\n",
       "      <td>...</td>\n",
       "      <td>78.466798</td>\n",
       "      <td>81.743129</td>\n",
       "      <td>2.956204</td>\n",
       "      <td>3.238531</td>\n",
       "      <td>-0.282327</td>\n",
       "      <td>3.370164</td>\n",
       "      <td>3.045685</td>\n",
       "      <td>Max Scherzer</td>\n",
       "      <td>3137</td>\n",
       "      <td>453286</td>\n",
       "    </tr>\n",
       "    <tr>\n",
       "      <th>0</th>\n",
       "      <td>2017</td>\n",
       "      <td>Max Scherzer</td>\n",
       "      <td>WSN</td>\n",
       "      <td>12.019933</td>\n",
       "      <td>2.466777</td>\n",
       "      <td>4.872727</td>\n",
       "      <td>0.986711</td>\n",
       "      <td>0.343590</td>\n",
       "      <td>0.070513</td>\n",
       "      <td>0.273077</td>\n",
       "      <td>...</td>\n",
       "      <td>65.852751</td>\n",
       "      <td>75.997657</td>\n",
       "      <td>2.511628</td>\n",
       "      <td>2.898503</td>\n",
       "      <td>-0.386876</td>\n",
       "      <td>3.281609</td>\n",
       "      <td>2.976355</td>\n",
       "      <td>Max Scherzer</td>\n",
       "      <td>3137</td>\n",
       "      <td>453286</td>\n",
       "    </tr>\n",
       "    <tr>\n",
       "      <th>1</th>\n",
       "      <td>2017</td>\n",
       "      <td>Corey Kluber</td>\n",
       "      <td>CLE</td>\n",
       "      <td>11.710312</td>\n",
       "      <td>1.590835</td>\n",
       "      <td>7.361111</td>\n",
       "      <td>0.927987</td>\n",
       "      <td>0.341055</td>\n",
       "      <td>0.046332</td>\n",
       "      <td>0.294723</td>\n",
       "      <td>...</td>\n",
       "      <td>56.581961</td>\n",
       "      <td>57.238157</td>\n",
       "      <td>2.253683</td>\n",
       "      <td>2.499702</td>\n",
       "      <td>-0.246019</td>\n",
       "      <td>2.521766</td>\n",
       "      <td>2.681954</td>\n",
       "      <td>Corey Kluber</td>\n",
       "      <td>2429</td>\n",
       "      <td>446372</td>\n",
       "    </tr>\n",
       "    <tr>\n",
       "      <th>0</th>\n",
       "      <td>2018</td>\n",
       "      <td>Blake Snell</td>\n",
       "      <td>TBR</td>\n",
       "      <td>11.009226</td>\n",
       "      <td>3.188192</td>\n",
       "      <td>3.453125</td>\n",
       "      <td>0.797048</td>\n",
       "      <td>0.315714</td>\n",
       "      <td>0.091429</td>\n",
       "      <td>0.224286</td>\n",
       "      <td>...</td>\n",
       "      <td>72.421989</td>\n",
       "      <td>74.742925</td>\n",
       "      <td>1.892989</td>\n",
       "      <td>2.944564</td>\n",
       "      <td>-1.051575</td>\n",
       "      <td>3.155398</td>\n",
       "      <td>3.299521</td>\n",
       "      <td>Blake Snell</td>\n",
       "      <td>13543</td>\n",
       "      <td>605483</td>\n",
       "    </tr>\n",
       "    <tr>\n",
       "      <th>1</th>\n",
       "      <td>2018</td>\n",
       "      <td>Jacob deGrom</td>\n",
       "      <td>NYM</td>\n",
       "      <td>11.156682</td>\n",
       "      <td>1.907834</td>\n",
       "      <td>5.847826</td>\n",
       "      <td>0.414747</td>\n",
       "      <td>0.322156</td>\n",
       "      <td>0.055090</td>\n",
       "      <td>0.267066</td>\n",
       "      <td>...</td>\n",
       "      <td>49.275632</td>\n",
       "      <td>63.726253</td>\n",
       "      <td>1.700461</td>\n",
       "      <td>1.985316</td>\n",
       "      <td>-0.284856</td>\n",
       "      <td>2.604019</td>\n",
       "      <td>2.783694</td>\n",
       "      <td>Jacob deGrom</td>\n",
       "      <td>10954</td>\n",
       "      <td>594798</td>\n",
       "    </tr>\n",
       "    <tr>\n",
       "      <th>0</th>\n",
       "      <td>2019</td>\n",
       "      <td>Jacob deGrom</td>\n",
       "      <td>NYM</td>\n",
       "      <td>11.250000</td>\n",
       "      <td>1.941176</td>\n",
       "      <td>5.795455</td>\n",
       "      <td>0.838235</td>\n",
       "      <td>0.317164</td>\n",
       "      <td>0.054726</td>\n",
       "      <td>0.262438</td>\n",
       "      <td>...</td>\n",
       "      <td>61.544182</td>\n",
       "      <td>69.887162</td>\n",
       "      <td>2.426471</td>\n",
       "      <td>2.674794</td>\n",
       "      <td>-0.248323</td>\n",
       "      <td>3.111930</td>\n",
       "      <td>3.287487</td>\n",
       "      <td>Jacob deGrom</td>\n",
       "      <td>10954</td>\n",
       "      <td>594798</td>\n",
       "    </tr>\n",
       "    <tr>\n",
       "      <th>1</th>\n",
       "      <td>2019</td>\n",
       "      <td>Justin Verlander</td>\n",
       "      <td>HOU</td>\n",
       "      <td>12.107624</td>\n",
       "      <td>1.695067</td>\n",
       "      <td>7.142857</td>\n",
       "      <td>1.452915</td>\n",
       "      <td>0.354191</td>\n",
       "      <td>0.049587</td>\n",
       "      <td>0.304604</td>\n",
       "      <td>...</td>\n",
       "      <td>72.171199</td>\n",
       "      <td>69.683514</td>\n",
       "      <td>2.582960</td>\n",
       "      <td>3.267821</td>\n",
       "      <td>-0.684861</td>\n",
       "      <td>3.176213</td>\n",
       "      <td>2.951605</td>\n",
       "      <td>Justin Verlander</td>\n",
       "      <td>8700</td>\n",
       "      <td>434378</td>\n",
       "    </tr>\n",
       "  </tbody>\n",
       "</table>\n",
       "<p>20 rows × 25 columns</p>\n",
       "</div>"
      ],
      "text/plain": [
       "   Season              Name Team        K/9      BB/9      K/BB      HR/9  \\\n",
       "0    2010   Félix Hernández  SEA   8.363151  2.523364  3.314286  0.612817   \n",
       "1    2010      Roy Halladay  PHI   7.863032  1.077128  7.300000  0.861702   \n",
       "0    2011  Justin Verlander  DET   8.964143  2.043825  4.385965  0.860558   \n",
       "1    2011   Clayton Kershaw  LAD   9.565714  2.082857  4.592593  0.578571   \n",
       "0    2012       R.A. Dickey  NYM   8.858774  2.079886  4.259259  0.924394   \n",
       "1    2012       David Price  TBR   8.744076  2.516588  3.474576  0.682465   \n",
       "0    2013   Clayton Kershaw  LAD   8.847458  1.983051  4.461538  0.419492   \n",
       "1    2013      Max Scherzer  DET  10.077761  2.351478  4.285714  0.755832   \n",
       "0    2014      Corey Kluber  CLE  10.272985  1.947666  5.274510  0.534653   \n",
       "1    2014   Clayton Kershaw  LAD  10.845378  1.406723  7.709677  0.408403   \n",
       "0    2015    Dallas Keuchel  HOU   8.379310  1.978448  4.235294  0.659483   \n",
       "1    2015      Jake Arrieta  CHC   9.275109  1.886463  4.916667  0.393013   \n",
       "0    2016     Rick Porcello  BOS   7.627803  1.291480  5.906250  0.928251   \n",
       "1    2016      Max Scherzer  WSN  11.194161  2.207299  5.071429  1.221898   \n",
       "0    2017      Max Scherzer  WSN  12.019933  2.466777  4.872727  0.986711   \n",
       "1    2017      Corey Kluber  CLE  11.710312  1.590835  7.361111  0.927987   \n",
       "0    2018       Blake Snell  TBR  11.009226  3.188192  3.453125  0.797048   \n",
       "1    2018      Jacob deGrom  NYM  11.156682  1.907834  5.847826  0.414747   \n",
       "0    2019      Jacob deGrom  NYM  11.250000  1.941176  5.795455  0.838235   \n",
       "1    2019  Justin Verlander  HOU  12.107624  1.695067  7.142857  1.452915   \n",
       "\n",
       "         K%       BB%     K-BB%  ...       FIP-      xFIP-       ERA  \\\n",
       "0  0.231768  0.069930  0.161838  ...  75.289038  75.063792  2.271028   \n",
       "1  0.220544  0.030211  0.190332  ...  75.223721  70.245439  2.441489   \n",
       "0  0.257998  0.058824  0.199174  ...  73.857591  77.340404  2.402390   \n",
       "1  0.271930  0.059211  0.212719  ...  64.619049  73.631808  2.275714   \n",
       "0  0.248112  0.058252  0.189860  ...  83.555098  83.756633  2.734665   \n",
       "1  0.245215  0.070574  0.174641  ...  74.799980  75.129573  2.559242   \n",
       "0  0.255507  0.057269  0.198238  ...  63.623887  76.171753  1.830508   \n",
       "1  0.287081  0.066986  0.220096  ...  68.993894  79.791189  2.897356   \n",
       "0  0.282860  0.053628  0.229232  ...  61.909623  67.963127  2.444130   \n",
       "1  0.319092  0.041389  0.277704  ...  49.402342  55.845476  1.769748   \n",
       "0  0.237102  0.055982  0.181120  ...  72.150603  67.858596  2.482758   \n",
       "1  0.271264  0.055172  0.216092  ...  60.561019  67.506423  1.768559   \n",
       "0  0.212360  0.035955  0.176404  ...  80.850074  91.589261  3.147982   \n",
       "1  0.314856  0.062084  0.252772  ...  78.466798  81.743129  2.956204   \n",
       "0  0.343590  0.070513  0.273077  ...  65.852751  75.997657  2.511628   \n",
       "1  0.341055  0.046332  0.294723  ...  56.581961  57.238157  2.253683   \n",
       "0  0.315714  0.091429  0.224286  ...  72.421989  74.742925  1.892989   \n",
       "1  0.322156  0.055090  0.267066  ...  49.275632  63.726253  1.700461   \n",
       "0  0.317164  0.054726  0.262438  ...  61.544182  69.887162  2.426471   \n",
       "1  0.354191  0.049587  0.304604  ...  72.171199  69.683514  2.582960   \n",
       "\n",
       "        FIP       E-F      xFIP     SIERA         NameASCII  PlayerId  MLBAMID  \n",
       "0  3.041794 -0.770766  3.139802  3.182343   Felix Hernandez      4772   433587  \n",
       "1  3.006034 -0.564545  2.799082  2.883465      Roy Halladay      1303   136880  \n",
       "0  2.993514 -0.591123  3.121858  2.981458  Justin Verlander      8700   434378  \n",
       "1  2.468243 -0.192529  2.843920  2.800882   Clayton Kershaw      2036   477132  \n",
       "0  3.269916 -0.535251  3.266788  3.247510       R.A. Dickey      1245   285079  \n",
       "1  3.047059 -0.487817  3.118974  3.232572       David Price      3184   456034  \n",
       "0  2.386837 -0.556329  2.874986  2.988544   Clayton Kershaw      2036   477132  \n",
       "1  2.739923  0.157433  3.158795  2.909397      Max Scherzer      3137   453286  \n",
       "0  2.347245  0.096885  2.566182  2.612153      Corey Kluber      2429   446372  \n",
       "1  1.811244 -0.041496  2.075074  2.087370   Clayton Kershaw      2036   477132  \n",
       "0  2.909456 -0.426697  2.751953  2.839081    Dallas Keuchel      9434   572971  \n",
       "1  2.347568 -0.579009  2.611157  2.745920      Jake Arrieta      4153   453562  \n",
       "0  3.397681 -0.249699  3.894263  3.779484     Rick Porcello      2717   519144  \n",
       "1  3.238531 -0.282327  3.370164  3.045685      Max Scherzer      3137   453286  \n",
       "0  2.898503 -0.386876  3.281609  2.976355      Max Scherzer      3137   453286  \n",
       "1  2.499702 -0.246019  2.521766  2.681954      Corey Kluber      2429   446372  \n",
       "0  2.944564 -1.051575  3.155398  3.299521       Blake Snell     13543   605483  \n",
       "1  1.985316 -0.284856  2.604019  2.783694      Jacob deGrom     10954   594798  \n",
       "0  2.674794 -0.248323  3.111930  3.287487      Jacob deGrom     10954   594798  \n",
       "1  3.267821 -0.684861  3.176213  2.951605  Justin Verlander      8700   434378  \n",
       "\n",
       "[20 rows x 25 columns]"
      ]
     },
     "execution_count": 2,
     "metadata": {},
     "output_type": "execute_result"
    }
   ],
   "source": [
    "Cy_Young_2010 = pd.read_csv(\"CY.Young.2010.csv\")\n",
    "Cy_Young_2011 = pd.read_csv(\"CY.Young.2011.csv\")\n",
    "Cy_Young_2012 = pd.read_csv(\"CY.Young.2012.csv\")\n",
    "Cy_Young_2013 = pd.read_csv(\"CY.Young.2013.csv\")\n",
    "Cy_Young_2014 = pd.read_csv(\"CY.Young.2014.csv\")\n",
    "Cy_Young_2015 = pd.read_csv(\"CY.Young.2015.csv\")\n",
    "Cy_Young_2016 = pd.read_csv(\"CY.Young.2016.csv\")\n",
    "Cy_Young_2017 = pd.read_csv(\"CY.Young.2017.csv\")\n",
    "Cy_Young_2018 = pd.read_csv(\"CY.Young.2018.csv\")\n",
    "Cy_Young_2019 = pd.read_csv(\"CY.Young.2019.csv\")\n",
    "\n",
    "Cy_Young_2010_2019 = pd.concat([Cy_Young_2010,Cy_Young_2011,Cy_Young_2012,Cy_Young_2013,Cy_Young_2014,Cy_Young_2015,Cy_Young_2016,Cy_Young_2017,Cy_Young_2018,Cy_Young_2019])\n",
    "Cy_Young_2010_2019"
   ]
  },
  {
   "cell_type": "code",
   "execution_count": 17,
   "id": "5e2f7d8a-15ae-4169-abda-d4ac76ab2c76",
   "metadata": {},
   "outputs": [],
   "source": [
    "league = {\n",
    "    \"Félix Hernández\": \"AL\", \"Roy Halladay\": \"NL\", \"Justin Verlander\": \"AL\",\n",
    "    \"Clayton Kershaw\": \"NL\", \"R.A. Dickey\": \"NL\", \"David Price\": \"AL\",\n",
    "    \"Max Scherzer\": \"AL\", \"Corey Kluber\": \"AL\", \"Dallas Keuchel\": \"AL\",\n",
    "    \"Rick Porcello\": \"AL\", \"Jake Arrieta\": \"NL\", \"Blake Snell\": \"AL\",\n",
    "    \"Jacob deGrom\": \"NL\"\n",
    "}\n",
    "\n",
    "# Create a new column by mapping player names to their league\n",
    "Cy_Young_2010_2019[\"League\"] = Cy_Young_2010_2019[\"Name\"].map(league)"
   ]
  },
  {
   "cell_type": "code",
   "execution_count": 90,
   "id": "2189838d-785c-4758-a994-7b4750832a14",
   "metadata": {
    "scrolled": true
   },
   "outputs": [
    {
     "data": {
      "text/html": [
       "<div>\n",
       "<style scoped>\n",
       "    .dataframe tbody tr th:only-of-type {\n",
       "        vertical-align: middle;\n",
       "    }\n",
       "\n",
       "    .dataframe tbody tr th {\n",
       "        vertical-align: top;\n",
       "    }\n",
       "\n",
       "    .dataframe thead th {\n",
       "        text-align: right;\n",
       "    }\n",
       "</style>\n",
       "<table border=\"1\" class=\"dataframe\">\n",
       "  <thead>\n",
       "    <tr style=\"text-align: right;\">\n",
       "      <th></th>\n",
       "      <th>Season</th>\n",
       "      <th>Name</th>\n",
       "      <th>Team</th>\n",
       "      <th>K/9</th>\n",
       "      <th>BB/9</th>\n",
       "      <th>K/BB</th>\n",
       "      <th>HR/9</th>\n",
       "      <th>K%</th>\n",
       "      <th>BB%</th>\n",
       "      <th>K-BB%</th>\n",
       "      <th>...</th>\n",
       "      <th>xFIP-</th>\n",
       "      <th>ERA</th>\n",
       "      <th>FIP</th>\n",
       "      <th>E-F</th>\n",
       "      <th>xFIP</th>\n",
       "      <th>SIERA</th>\n",
       "      <th>NameASCII</th>\n",
       "      <th>PlayerId</th>\n",
       "      <th>MLBAMID</th>\n",
       "      <th>League</th>\n",
       "    </tr>\n",
       "  </thead>\n",
       "  <tbody>\n",
       "    <tr>\n",
       "      <th>0</th>\n",
       "      <td>2010</td>\n",
       "      <td>Félix Hernández</td>\n",
       "      <td>SEA</td>\n",
       "      <td>8.363151</td>\n",
       "      <td>2.523364</td>\n",
       "      <td>3.314286</td>\n",
       "      <td>0.612817</td>\n",
       "      <td>23.176823</td>\n",
       "      <td>6.993007</td>\n",
       "      <td>16.183816</td>\n",
       "      <td>...</td>\n",
       "      <td>75.063792</td>\n",
       "      <td>2.271028</td>\n",
       "      <td>3.041794</td>\n",
       "      <td>-0.770766</td>\n",
       "      <td>3.139802</td>\n",
       "      <td>3.182343</td>\n",
       "      <td>Felix Hernandez</td>\n",
       "      <td>4772</td>\n",
       "      <td>433587</td>\n",
       "      <td>AL</td>\n",
       "    </tr>\n",
       "    <tr>\n",
       "      <th>1</th>\n",
       "      <td>2010</td>\n",
       "      <td>Roy Halladay</td>\n",
       "      <td>PHI</td>\n",
       "      <td>7.863032</td>\n",
       "      <td>1.077128</td>\n",
       "      <td>7.300000</td>\n",
       "      <td>0.861702</td>\n",
       "      <td>22.054381</td>\n",
       "      <td>3.021148</td>\n",
       "      <td>19.033233</td>\n",
       "      <td>...</td>\n",
       "      <td>70.245439</td>\n",
       "      <td>2.441489</td>\n",
       "      <td>3.006034</td>\n",
       "      <td>-0.564545</td>\n",
       "      <td>2.799082</td>\n",
       "      <td>2.883465</td>\n",
       "      <td>Roy Halladay</td>\n",
       "      <td>1303</td>\n",
       "      <td>136880</td>\n",
       "      <td>NL</td>\n",
       "    </tr>\n",
       "    <tr>\n",
       "      <th>0</th>\n",
       "      <td>2011</td>\n",
       "      <td>Justin Verlander</td>\n",
       "      <td>DET</td>\n",
       "      <td>8.964143</td>\n",
       "      <td>2.043825</td>\n",
       "      <td>4.385965</td>\n",
       "      <td>0.860558</td>\n",
       "      <td>25.799794</td>\n",
       "      <td>5.882353</td>\n",
       "      <td>19.917441</td>\n",
       "      <td>...</td>\n",
       "      <td>77.340404</td>\n",
       "      <td>2.402390</td>\n",
       "      <td>2.993514</td>\n",
       "      <td>-0.591123</td>\n",
       "      <td>3.121858</td>\n",
       "      <td>2.981458</td>\n",
       "      <td>Justin Verlander</td>\n",
       "      <td>8700</td>\n",
       "      <td>434378</td>\n",
       "      <td>AL</td>\n",
       "    </tr>\n",
       "    <tr>\n",
       "      <th>1</th>\n",
       "      <td>2011</td>\n",
       "      <td>Clayton Kershaw</td>\n",
       "      <td>LAD</td>\n",
       "      <td>9.565714</td>\n",
       "      <td>2.082857</td>\n",
       "      <td>4.592593</td>\n",
       "      <td>0.578571</td>\n",
       "      <td>27.192982</td>\n",
       "      <td>5.921053</td>\n",
       "      <td>21.271930</td>\n",
       "      <td>...</td>\n",
       "      <td>73.631808</td>\n",
       "      <td>2.275714</td>\n",
       "      <td>2.468243</td>\n",
       "      <td>-0.192529</td>\n",
       "      <td>2.843920</td>\n",
       "      <td>2.800882</td>\n",
       "      <td>Clayton Kershaw</td>\n",
       "      <td>2036</td>\n",
       "      <td>477132</td>\n",
       "      <td>NL</td>\n",
       "    </tr>\n",
       "    <tr>\n",
       "      <th>0</th>\n",
       "      <td>2012</td>\n",
       "      <td>R.A. Dickey</td>\n",
       "      <td>NYM</td>\n",
       "      <td>8.858774</td>\n",
       "      <td>2.079886</td>\n",
       "      <td>4.259259</td>\n",
       "      <td>0.924394</td>\n",
       "      <td>24.811219</td>\n",
       "      <td>5.825243</td>\n",
       "      <td>18.985976</td>\n",
       "      <td>...</td>\n",
       "      <td>83.756633</td>\n",
       "      <td>2.734665</td>\n",
       "      <td>3.269916</td>\n",
       "      <td>-0.535251</td>\n",
       "      <td>3.266788</td>\n",
       "      <td>3.247510</td>\n",
       "      <td>R.A. Dickey</td>\n",
       "      <td>1245</td>\n",
       "      <td>285079</td>\n",
       "      <td>NL</td>\n",
       "    </tr>\n",
       "    <tr>\n",
       "      <th>1</th>\n",
       "      <td>2012</td>\n",
       "      <td>David Price</td>\n",
       "      <td>TBR</td>\n",
       "      <td>8.744076</td>\n",
       "      <td>2.516588</td>\n",
       "      <td>3.474576</td>\n",
       "      <td>0.682465</td>\n",
       "      <td>24.521531</td>\n",
       "      <td>7.057416</td>\n",
       "      <td>17.464115</td>\n",
       "      <td>...</td>\n",
       "      <td>75.129573</td>\n",
       "      <td>2.559242</td>\n",
       "      <td>3.047059</td>\n",
       "      <td>-0.487817</td>\n",
       "      <td>3.118974</td>\n",
       "      <td>3.232572</td>\n",
       "      <td>David Price</td>\n",
       "      <td>3184</td>\n",
       "      <td>456034</td>\n",
       "      <td>AL</td>\n",
       "    </tr>\n",
       "    <tr>\n",
       "      <th>0</th>\n",
       "      <td>2013</td>\n",
       "      <td>Clayton Kershaw</td>\n",
       "      <td>LAD</td>\n",
       "      <td>8.847458</td>\n",
       "      <td>1.983051</td>\n",
       "      <td>4.461538</td>\n",
       "      <td>0.419492</td>\n",
       "      <td>25.550661</td>\n",
       "      <td>5.726872</td>\n",
       "      <td>19.823789</td>\n",
       "      <td>...</td>\n",
       "      <td>76.171753</td>\n",
       "      <td>1.830508</td>\n",
       "      <td>2.386837</td>\n",
       "      <td>-0.556329</td>\n",
       "      <td>2.874986</td>\n",
       "      <td>2.988544</td>\n",
       "      <td>Clayton Kershaw</td>\n",
       "      <td>2036</td>\n",
       "      <td>477132</td>\n",
       "      <td>NL</td>\n",
       "    </tr>\n",
       "    <tr>\n",
       "      <th>1</th>\n",
       "      <td>2013</td>\n",
       "      <td>Max Scherzer</td>\n",
       "      <td>DET</td>\n",
       "      <td>10.077761</td>\n",
       "      <td>2.351478</td>\n",
       "      <td>4.285714</td>\n",
       "      <td>0.755832</td>\n",
       "      <td>28.708134</td>\n",
       "      <td>6.698565</td>\n",
       "      <td>22.009569</td>\n",
       "      <td>...</td>\n",
       "      <td>79.791189</td>\n",
       "      <td>2.897356</td>\n",
       "      <td>2.739923</td>\n",
       "      <td>0.157433</td>\n",
       "      <td>3.158795</td>\n",
       "      <td>2.909397</td>\n",
       "      <td>Max Scherzer</td>\n",
       "      <td>3137</td>\n",
       "      <td>453286</td>\n",
       "      <td>AL</td>\n",
       "    </tr>\n",
       "    <tr>\n",
       "      <th>0</th>\n",
       "      <td>2014</td>\n",
       "      <td>Corey Kluber</td>\n",
       "      <td>CLE</td>\n",
       "      <td>10.272985</td>\n",
       "      <td>1.947666</td>\n",
       "      <td>5.274510</td>\n",
       "      <td>0.534653</td>\n",
       "      <td>28.286015</td>\n",
       "      <td>5.362776</td>\n",
       "      <td>22.923239</td>\n",
       "      <td>...</td>\n",
       "      <td>67.963127</td>\n",
       "      <td>2.444130</td>\n",
       "      <td>2.347245</td>\n",
       "      <td>0.096885</td>\n",
       "      <td>2.566182</td>\n",
       "      <td>2.612153</td>\n",
       "      <td>Corey Kluber</td>\n",
       "      <td>2429</td>\n",
       "      <td>446372</td>\n",
       "      <td>AL</td>\n",
       "    </tr>\n",
       "    <tr>\n",
       "      <th>1</th>\n",
       "      <td>2014</td>\n",
       "      <td>Clayton Kershaw</td>\n",
       "      <td>LAD</td>\n",
       "      <td>10.845378</td>\n",
       "      <td>1.406723</td>\n",
       "      <td>7.709677</td>\n",
       "      <td>0.408403</td>\n",
       "      <td>31.909212</td>\n",
       "      <td>4.138852</td>\n",
       "      <td>27.770360</td>\n",
       "      <td>...</td>\n",
       "      <td>55.845476</td>\n",
       "      <td>1.769748</td>\n",
       "      <td>1.811244</td>\n",
       "      <td>-0.041496</td>\n",
       "      <td>2.075074</td>\n",
       "      <td>2.087370</td>\n",
       "      <td>Clayton Kershaw</td>\n",
       "      <td>2036</td>\n",
       "      <td>477132</td>\n",
       "      <td>NL</td>\n",
       "    </tr>\n",
       "    <tr>\n",
       "      <th>0</th>\n",
       "      <td>2015</td>\n",
       "      <td>Dallas Keuchel</td>\n",
       "      <td>HOU</td>\n",
       "      <td>8.379310</td>\n",
       "      <td>1.978448</td>\n",
       "      <td>4.235294</td>\n",
       "      <td>0.659483</td>\n",
       "      <td>23.710209</td>\n",
       "      <td>5.598244</td>\n",
       "      <td>18.111965</td>\n",
       "      <td>...</td>\n",
       "      <td>67.858596</td>\n",
       "      <td>2.482758</td>\n",
       "      <td>2.909456</td>\n",
       "      <td>-0.426697</td>\n",
       "      <td>2.751953</td>\n",
       "      <td>2.839081</td>\n",
       "      <td>Dallas Keuchel</td>\n",
       "      <td>9434</td>\n",
       "      <td>572971</td>\n",
       "      <td>AL</td>\n",
       "    </tr>\n",
       "    <tr>\n",
       "      <th>1</th>\n",
       "      <td>2015</td>\n",
       "      <td>Jake Arrieta</td>\n",
       "      <td>CHC</td>\n",
       "      <td>9.275109</td>\n",
       "      <td>1.886463</td>\n",
       "      <td>4.916667</td>\n",
       "      <td>0.393013</td>\n",
       "      <td>27.126437</td>\n",
       "      <td>5.517241</td>\n",
       "      <td>21.609195</td>\n",
       "      <td>...</td>\n",
       "      <td>67.506423</td>\n",
       "      <td>1.768559</td>\n",
       "      <td>2.347568</td>\n",
       "      <td>-0.579009</td>\n",
       "      <td>2.611157</td>\n",
       "      <td>2.745920</td>\n",
       "      <td>Jake Arrieta</td>\n",
       "      <td>4153</td>\n",
       "      <td>453562</td>\n",
       "      <td>NL</td>\n",
       "    </tr>\n",
       "    <tr>\n",
       "      <th>0</th>\n",
       "      <td>2016</td>\n",
       "      <td>Rick Porcello</td>\n",
       "      <td>BOS</td>\n",
       "      <td>7.627803</td>\n",
       "      <td>1.291480</td>\n",
       "      <td>5.906250</td>\n",
       "      <td>0.928251</td>\n",
       "      <td>21.235955</td>\n",
       "      <td>3.595506</td>\n",
       "      <td>17.640449</td>\n",
       "      <td>...</td>\n",
       "      <td>91.589261</td>\n",
       "      <td>3.147982</td>\n",
       "      <td>3.397681</td>\n",
       "      <td>-0.249699</td>\n",
       "      <td>3.894263</td>\n",
       "      <td>3.779484</td>\n",
       "      <td>Rick Porcello</td>\n",
       "      <td>2717</td>\n",
       "      <td>519144</td>\n",
       "      <td>AL</td>\n",
       "    </tr>\n",
       "    <tr>\n",
       "      <th>1</th>\n",
       "      <td>2016</td>\n",
       "      <td>Max Scherzer</td>\n",
       "      <td>WSN</td>\n",
       "      <td>11.194161</td>\n",
       "      <td>2.207299</td>\n",
       "      <td>5.071429</td>\n",
       "      <td>1.221898</td>\n",
       "      <td>31.485588</td>\n",
       "      <td>6.208426</td>\n",
       "      <td>25.277162</td>\n",
       "      <td>...</td>\n",
       "      <td>81.743129</td>\n",
       "      <td>2.956204</td>\n",
       "      <td>3.238531</td>\n",
       "      <td>-0.282327</td>\n",
       "      <td>3.370164</td>\n",
       "      <td>3.045685</td>\n",
       "      <td>Max Scherzer</td>\n",
       "      <td>3137</td>\n",
       "      <td>453286</td>\n",
       "      <td>AL</td>\n",
       "    </tr>\n",
       "    <tr>\n",
       "      <th>0</th>\n",
       "      <td>2017</td>\n",
       "      <td>Max Scherzer</td>\n",
       "      <td>WSN</td>\n",
       "      <td>12.019933</td>\n",
       "      <td>2.466777</td>\n",
       "      <td>4.872727</td>\n",
       "      <td>0.986711</td>\n",
       "      <td>34.358974</td>\n",
       "      <td>7.051282</td>\n",
       "      <td>27.307692</td>\n",
       "      <td>...</td>\n",
       "      <td>75.997657</td>\n",
       "      <td>2.511628</td>\n",
       "      <td>2.898503</td>\n",
       "      <td>-0.386876</td>\n",
       "      <td>3.281609</td>\n",
       "      <td>2.976355</td>\n",
       "      <td>Max Scherzer</td>\n",
       "      <td>3137</td>\n",
       "      <td>453286</td>\n",
       "      <td>AL</td>\n",
       "    </tr>\n",
       "    <tr>\n",
       "      <th>1</th>\n",
       "      <td>2017</td>\n",
       "      <td>Corey Kluber</td>\n",
       "      <td>CLE</td>\n",
       "      <td>11.710312</td>\n",
       "      <td>1.590835</td>\n",
       "      <td>7.361111</td>\n",
       "      <td>0.927987</td>\n",
       "      <td>34.105534</td>\n",
       "      <td>4.633205</td>\n",
       "      <td>29.472330</td>\n",
       "      <td>...</td>\n",
       "      <td>57.238157</td>\n",
       "      <td>2.253683</td>\n",
       "      <td>2.499702</td>\n",
       "      <td>-0.246019</td>\n",
       "      <td>2.521766</td>\n",
       "      <td>2.681954</td>\n",
       "      <td>Corey Kluber</td>\n",
       "      <td>2429</td>\n",
       "      <td>446372</td>\n",
       "      <td>AL</td>\n",
       "    </tr>\n",
       "    <tr>\n",
       "      <th>0</th>\n",
       "      <td>2018</td>\n",
       "      <td>Blake Snell</td>\n",
       "      <td>TBR</td>\n",
       "      <td>11.009226</td>\n",
       "      <td>3.188192</td>\n",
       "      <td>3.453125</td>\n",
       "      <td>0.797048</td>\n",
       "      <td>31.571429</td>\n",
       "      <td>9.142857</td>\n",
       "      <td>22.428571</td>\n",
       "      <td>...</td>\n",
       "      <td>74.742925</td>\n",
       "      <td>1.892989</td>\n",
       "      <td>2.944564</td>\n",
       "      <td>-1.051575</td>\n",
       "      <td>3.155398</td>\n",
       "      <td>3.299521</td>\n",
       "      <td>Blake Snell</td>\n",
       "      <td>13543</td>\n",
       "      <td>605483</td>\n",
       "      <td>AL</td>\n",
       "    </tr>\n",
       "    <tr>\n",
       "      <th>1</th>\n",
       "      <td>2018</td>\n",
       "      <td>Jacob deGrom</td>\n",
       "      <td>NYM</td>\n",
       "      <td>11.156682</td>\n",
       "      <td>1.907834</td>\n",
       "      <td>5.847826</td>\n",
       "      <td>0.414747</td>\n",
       "      <td>32.215569</td>\n",
       "      <td>5.508982</td>\n",
       "      <td>26.706587</td>\n",
       "      <td>...</td>\n",
       "      <td>63.726253</td>\n",
       "      <td>1.700461</td>\n",
       "      <td>1.985316</td>\n",
       "      <td>-0.284856</td>\n",
       "      <td>2.604019</td>\n",
       "      <td>2.783694</td>\n",
       "      <td>Jacob deGrom</td>\n",
       "      <td>10954</td>\n",
       "      <td>594798</td>\n",
       "      <td>NL</td>\n",
       "    </tr>\n",
       "    <tr>\n",
       "      <th>0</th>\n",
       "      <td>2019</td>\n",
       "      <td>Jacob deGrom</td>\n",
       "      <td>NYM</td>\n",
       "      <td>11.250000</td>\n",
       "      <td>1.941176</td>\n",
       "      <td>5.795455</td>\n",
       "      <td>0.838235</td>\n",
       "      <td>31.716418</td>\n",
       "      <td>5.472637</td>\n",
       "      <td>26.243781</td>\n",
       "      <td>...</td>\n",
       "      <td>69.887162</td>\n",
       "      <td>2.426471</td>\n",
       "      <td>2.674794</td>\n",
       "      <td>-0.248323</td>\n",
       "      <td>3.111930</td>\n",
       "      <td>3.287487</td>\n",
       "      <td>Jacob deGrom</td>\n",
       "      <td>10954</td>\n",
       "      <td>594798</td>\n",
       "      <td>NL</td>\n",
       "    </tr>\n",
       "    <tr>\n",
       "      <th>1</th>\n",
       "      <td>2019</td>\n",
       "      <td>Justin Verlander</td>\n",
       "      <td>HOU</td>\n",
       "      <td>12.107624</td>\n",
       "      <td>1.695067</td>\n",
       "      <td>7.142857</td>\n",
       "      <td>1.452915</td>\n",
       "      <td>35.419126</td>\n",
       "      <td>4.958678</td>\n",
       "      <td>30.460449</td>\n",
       "      <td>...</td>\n",
       "      <td>69.683514</td>\n",
       "      <td>2.582960</td>\n",
       "      <td>3.267821</td>\n",
       "      <td>-0.684861</td>\n",
       "      <td>3.176213</td>\n",
       "      <td>2.951605</td>\n",
       "      <td>Justin Verlander</td>\n",
       "      <td>8700</td>\n",
       "      <td>434378</td>\n",
       "      <td>AL</td>\n",
       "    </tr>\n",
       "  </tbody>\n",
       "</table>\n",
       "<p>20 rows × 26 columns</p>\n",
       "</div>"
      ],
      "text/plain": [
       "   Season              Name Team        K/9      BB/9      K/BB      HR/9  \\\n",
       "0    2010   Félix Hernández  SEA   8.363151  2.523364  3.314286  0.612817   \n",
       "1    2010      Roy Halladay  PHI   7.863032  1.077128  7.300000  0.861702   \n",
       "0    2011  Justin Verlander  DET   8.964143  2.043825  4.385965  0.860558   \n",
       "1    2011   Clayton Kershaw  LAD   9.565714  2.082857  4.592593  0.578571   \n",
       "0    2012       R.A. Dickey  NYM   8.858774  2.079886  4.259259  0.924394   \n",
       "1    2012       David Price  TBR   8.744076  2.516588  3.474576  0.682465   \n",
       "0    2013   Clayton Kershaw  LAD   8.847458  1.983051  4.461538  0.419492   \n",
       "1    2013      Max Scherzer  DET  10.077761  2.351478  4.285714  0.755832   \n",
       "0    2014      Corey Kluber  CLE  10.272985  1.947666  5.274510  0.534653   \n",
       "1    2014   Clayton Kershaw  LAD  10.845378  1.406723  7.709677  0.408403   \n",
       "0    2015    Dallas Keuchel  HOU   8.379310  1.978448  4.235294  0.659483   \n",
       "1    2015      Jake Arrieta  CHC   9.275109  1.886463  4.916667  0.393013   \n",
       "0    2016     Rick Porcello  BOS   7.627803  1.291480  5.906250  0.928251   \n",
       "1    2016      Max Scherzer  WSN  11.194161  2.207299  5.071429  1.221898   \n",
       "0    2017      Max Scherzer  WSN  12.019933  2.466777  4.872727  0.986711   \n",
       "1    2017      Corey Kluber  CLE  11.710312  1.590835  7.361111  0.927987   \n",
       "0    2018       Blake Snell  TBR  11.009226  3.188192  3.453125  0.797048   \n",
       "1    2018      Jacob deGrom  NYM  11.156682  1.907834  5.847826  0.414747   \n",
       "0    2019      Jacob deGrom  NYM  11.250000  1.941176  5.795455  0.838235   \n",
       "1    2019  Justin Verlander  HOU  12.107624  1.695067  7.142857  1.452915   \n",
       "\n",
       "          K%       BB%      K-BB%  ...      xFIP-       ERA       FIP  \\\n",
       "0  23.176823  6.993007  16.183816  ...  75.063792  2.271028  3.041794   \n",
       "1  22.054381  3.021148  19.033233  ...  70.245439  2.441489  3.006034   \n",
       "0  25.799794  5.882353  19.917441  ...  77.340404  2.402390  2.993514   \n",
       "1  27.192982  5.921053  21.271930  ...  73.631808  2.275714  2.468243   \n",
       "0  24.811219  5.825243  18.985976  ...  83.756633  2.734665  3.269916   \n",
       "1  24.521531  7.057416  17.464115  ...  75.129573  2.559242  3.047059   \n",
       "0  25.550661  5.726872  19.823789  ...  76.171753  1.830508  2.386837   \n",
       "1  28.708134  6.698565  22.009569  ...  79.791189  2.897356  2.739923   \n",
       "0  28.286015  5.362776  22.923239  ...  67.963127  2.444130  2.347245   \n",
       "1  31.909212  4.138852  27.770360  ...  55.845476  1.769748  1.811244   \n",
       "0  23.710209  5.598244  18.111965  ...  67.858596  2.482758  2.909456   \n",
       "1  27.126437  5.517241  21.609195  ...  67.506423  1.768559  2.347568   \n",
       "0  21.235955  3.595506  17.640449  ...  91.589261  3.147982  3.397681   \n",
       "1  31.485588  6.208426  25.277162  ...  81.743129  2.956204  3.238531   \n",
       "0  34.358974  7.051282  27.307692  ...  75.997657  2.511628  2.898503   \n",
       "1  34.105534  4.633205  29.472330  ...  57.238157  2.253683  2.499702   \n",
       "0  31.571429  9.142857  22.428571  ...  74.742925  1.892989  2.944564   \n",
       "1  32.215569  5.508982  26.706587  ...  63.726253  1.700461  1.985316   \n",
       "0  31.716418  5.472637  26.243781  ...  69.887162  2.426471  2.674794   \n",
       "1  35.419126  4.958678  30.460449  ...  69.683514  2.582960  3.267821   \n",
       "\n",
       "        E-F      xFIP     SIERA         NameASCII  PlayerId  MLBAMID  League  \n",
       "0 -0.770766  3.139802  3.182343   Felix Hernandez      4772   433587      AL  \n",
       "1 -0.564545  2.799082  2.883465      Roy Halladay      1303   136880      NL  \n",
       "0 -0.591123  3.121858  2.981458  Justin Verlander      8700   434378      AL  \n",
       "1 -0.192529  2.843920  2.800882   Clayton Kershaw      2036   477132      NL  \n",
       "0 -0.535251  3.266788  3.247510       R.A. Dickey      1245   285079      NL  \n",
       "1 -0.487817  3.118974  3.232572       David Price      3184   456034      AL  \n",
       "0 -0.556329  2.874986  2.988544   Clayton Kershaw      2036   477132      NL  \n",
       "1  0.157433  3.158795  2.909397      Max Scherzer      3137   453286      AL  \n",
       "0  0.096885  2.566182  2.612153      Corey Kluber      2429   446372      AL  \n",
       "1 -0.041496  2.075074  2.087370   Clayton Kershaw      2036   477132      NL  \n",
       "0 -0.426697  2.751953  2.839081    Dallas Keuchel      9434   572971      AL  \n",
       "1 -0.579009  2.611157  2.745920      Jake Arrieta      4153   453562      NL  \n",
       "0 -0.249699  3.894263  3.779484     Rick Porcello      2717   519144      AL  \n",
       "1 -0.282327  3.370164  3.045685      Max Scherzer      3137   453286      AL  \n",
       "0 -0.386876  3.281609  2.976355      Max Scherzer      3137   453286      AL  \n",
       "1 -0.246019  2.521766  2.681954      Corey Kluber      2429   446372      AL  \n",
       "0 -1.051575  3.155398  3.299521       Blake Snell     13543   605483      AL  \n",
       "1 -0.284856  2.604019  2.783694      Jacob deGrom     10954   594798      NL  \n",
       "0 -0.248323  3.111930  3.287487      Jacob deGrom     10954   594798      NL  \n",
       "1 -0.684861  3.176213  2.951605  Justin Verlander      8700   434378      AL  \n",
       "\n",
       "[20 rows x 26 columns]"
      ]
     },
     "execution_count": 90,
     "metadata": {},
     "output_type": "execute_result"
    }
   ],
   "source": [
    "columns_to_Percent = ['K%', 'BB%', 'K-BB%']\n",
    "Cy_Young_2010_2019[columns_to_Percent] = Cy_Young_2010_2019[columns_to_Percent]/100\n",
    "Cy_Young_2010_2019"
   ]
  },
  {
   "cell_type": "code",
   "execution_count": 115,
   "id": "0f48c4da-5aab-46df-93dd-62a824ae447b",
   "metadata": {},
   "outputs": [
    {
     "data": {
      "text/plain": [
       "<Figure size 800x600 with 0 Axes>"
      ]
     },
     "execution_count": 115,
     "metadata": {},
     "output_type": "execute_result"
    },
    {
     "name": "stderr",
     "output_type": "stream",
     "text": [
      "C:\\Users\\xande\\AppData\\Local\\Temp\\ipykernel_6288\\2488017505.py:3: UserWarning: Ignoring `palette` because no `hue` variable has been assigned.\n",
      "  sns.scatterplot(x=Cy_Young_2010_2019['K%'], y=Cy_Young_2010_2019['BB%'],\n"
     ]
    },
    {
     "data": {
      "text/plain": [
       "<Axes: xlabel='K%', ylabel='BB%'>"
      ]
     },
     "execution_count": 115,
     "metadata": {},
     "output_type": "execute_result"
    },
    {
     "data": {
      "text/plain": [
       "Text(23.37682300000001, 6.993007, 'Félix Hernández (2010)')"
      ]
     },
     "execution_count": 115,
     "metadata": {},
     "output_type": "execute_result"
    },
    {
     "data": {
      "text/plain": [
       "Text(22.254381000000002, 3.0211479999999993, 'Roy Halladay (2010)')"
      ]
     },
     "execution_count": 115,
     "metadata": {},
     "output_type": "execute_result"
    },
    {
     "data": {
      "text/plain": [
       "Text(25.999793999999998, 5.882353000000002, 'Justin Verlander (2011)')"
      ]
     },
     "execution_count": 115,
     "metadata": {},
     "output_type": "execute_result"
    },
    {
     "data": {
      "text/plain": [
       "Text(27.392982000000007, 5.921053, 'Clayton Kershaw (2011)')"
      ]
     },
     "execution_count": 115,
     "metadata": {},
     "output_type": "execute_result"
    },
    {
     "data": {
      "text/plain": [
       "Text(25.011218999999997, 5.825243000000001, 'R.A. Dickey (2012)')"
      ]
     },
     "execution_count": 115,
     "metadata": {},
     "output_type": "execute_result"
    },
    {
     "data": {
      "text/plain": [
       "Text(24.721530999999995, 7.057415999999998, 'David Price (2012)')"
      ]
     },
     "execution_count": 115,
     "metadata": {},
     "output_type": "execute_result"
    },
    {
     "data": {
      "text/plain": [
       "Text(25.750660999999994, 5.726872000000001, 'Clayton Kershaw (2013)')"
      ]
     },
     "execution_count": 115,
     "metadata": {},
     "output_type": "execute_result"
    },
    {
     "data": {
      "text/plain": [
       "Text(28.908133999999993, 6.698565000000001, 'Max Scherzer (2013)')"
      ]
     },
     "execution_count": 115,
     "metadata": {},
     "output_type": "execute_result"
    },
    {
     "data": {
      "text/plain": [
       "Text(28.486015, 5.362775999999999, 'Corey Kluber (2014)')"
      ]
     },
     "execution_count": 115,
     "metadata": {},
     "output_type": "execute_result"
    },
    {
     "data": {
      "text/plain": [
       "Text(32.10921200000001, 4.138852, 'Clayton Kershaw (2014)')"
      ]
     },
     "execution_count": 115,
     "metadata": {},
     "output_type": "execute_result"
    },
    {
     "data": {
      "text/plain": [
       "Text(23.910208999999995, 5.598243999999999, 'Dallas Keuchel (2015)')"
      ]
     },
     "execution_count": 115,
     "metadata": {},
     "output_type": "execute_result"
    },
    {
     "data": {
      "text/plain": [
       "Text(27.326437000000006, 5.517240999999999, 'Jake Arrieta (2015)')"
      ]
     },
     "execution_count": 115,
     "metadata": {},
     "output_type": "execute_result"
    },
    {
     "data": {
      "text/plain": [
       "Text(21.435955000000003, 3.595506, 'Rick Porcello (2016)')"
      ]
     },
     "execution_count": 115,
     "metadata": {},
     "output_type": "execute_result"
    },
    {
     "data": {
      "text/plain": [
       "Text(31.685588000000003, 6.208425999999999, 'Max Scherzer (2016)')"
      ]
     },
     "execution_count": 115,
     "metadata": {},
     "output_type": "execute_result"
    },
    {
     "data": {
      "text/plain": [
       "Text(34.558974000000006, 7.051282000000001, 'Max Scherzer (2017)')"
      ]
     },
     "execution_count": 115,
     "metadata": {},
     "output_type": "execute_result"
    },
    {
     "data": {
      "text/plain": [
       "Text(34.305534, 4.633205, 'Corey Kluber (2017)')"
      ]
     },
     "execution_count": 115,
     "metadata": {},
     "output_type": "execute_result"
    },
    {
     "data": {
      "text/plain": [
       "Text(31.77142900000001, 9.142856999999998, 'Blake Snell (2018)')"
      ]
     },
     "execution_count": 115,
     "metadata": {},
     "output_type": "execute_result"
    },
    {
     "data": {
      "text/plain": [
       "Text(32.415569000000005, 5.508982, 'Jacob deGrom (2018)')"
      ]
     },
     "execution_count": 115,
     "metadata": {},
     "output_type": "execute_result"
    },
    {
     "data": {
      "text/plain": [
       "Text(31.916417999999997, 5.472637, 'Jacob deGrom (2019)')"
      ]
     },
     "execution_count": 115,
     "metadata": {},
     "output_type": "execute_result"
    },
    {
     "data": {
      "text/plain": [
       "Text(35.619126, 4.958678, 'Justin Verlander (2019)')"
      ]
     },
     "execution_count": 115,
     "metadata": {},
     "output_type": "execute_result"
    },
    {
     "data": {
      "text/plain": [
       "Text(0.5, 0, 'Strikeout % (K%)')"
      ]
     },
     "execution_count": 115,
     "metadata": {},
     "output_type": "execute_result"
    },
    {
     "data": {
      "text/plain": [
       "Text(0, 0.5, 'Walk % (BB%)')"
      ]
     },
     "execution_count": 115,
     "metadata": {},
     "output_type": "execute_result"
    },
    {
     "data": {
      "text/plain": [
       "Text(0.5, 1.0, 'K% vs. BB% for Cy Young Winners (2010-2019)')"
      ]
     },
     "execution_count": 115,
     "metadata": {},
     "output_type": "execute_result"
    },
    {
     "data": {
      "image/png": "[encoded data removed]",
      "text/plain": [
       "<Figure size 800x600 with 1 Axes>"
      ]
     },
     "metadata": {},
     "output_type": "display_data"
    }
   ],
   "source": [
    "plt.figure(figsize=(8, 6))\n",
    "\n",
    "sns.scatterplot(x=Cy_Young_2010_2019['K%'], y=Cy_Young_2010_2019['BB%'],  \n",
    "                palette=\"coolwarm\", sizes=(50, 200))\n",
    "\n",
    "\n",
    "for i in range(len(Cy_Young_2010_2019)):\n",
    "    plt.text(Cy_Young_2010_2019['K%'].iloc[i] + 0.2, \n",
    "             Cy_Young_2010_2019['BB%'].iloc[i],\n",
    "             f\"{Cy_Young_2010_2019['Name'].iloc[i]} ({Cy_Young_2010_2019['Season'].iloc[i]})\",\n",
    "             fontsize=7, ha='left', va='center')\n",
    "\n",
    "plt.xlabel(\"Strikeout % (K%)\")\n",
    "plt.ylabel(\"Walk % (BB%)\")\n",
    "plt.title(\"K% vs. BB% for Cy Young Winners (2010-2019)\")\n",
    "plt.savefig(\"K% vs BB%.png\", dpi=300, bbox_inches=\"tight\")\n",
    "plt.show()"
   ]
  },
  {
   "cell_type": "code",
   "execution_count": 117,
   "id": "71145c5f-4ca3-4724-b676-21dba82089b8",
   "metadata": {},
   "outputs": [
    {
     "data": {
      "text/plain": [
       "<Figure size 800x600 with 0 Axes>"
      ]
     },
     "execution_count": 117,
     "metadata": {},
     "output_type": "execute_result"
    },
    {
     "name": "stderr",
     "output_type": "stream",
     "text": [
      "C:\\Users\\xande\\AppData\\Local\\Temp\\ipykernel_6288\\2847677849.py:3: UserWarning: Ignoring `palette` because no `hue` variable has been assigned.\n",
      "  sns.scatterplot(x=Cy_Young_2010_2019['FIP'], y=Cy_Young_2010_2019['SIERA'],\n"
     ]
    },
    {
     "data": {
      "text/plain": [
       "<Axes: xlabel='FIP', ylabel='SIERA'>"
      ]
     },
     "execution_count": 117,
     "metadata": {},
     "output_type": "execute_result"
    },
    {
     "data": {
      "text/plain": [
       "Text(3.1417943629489806, 3.182342682897116, 'Félix Hernández (2010)')"
      ]
     },
     "execution_count": 117,
     "metadata": {},
     "output_type": "execute_result"
    },
    {
     "data": {
      "text/plain": [
       "Text(3.1060339171188134, 2.883465258808585, 'Roy Halladay (2010)')"
      ]
     },
     "execution_count": 117,
     "metadata": {},
     "output_type": "execute_result"
    },
    {
     "data": {
      "text/plain": [
       "Text(3.0935137777592945, 2.981457560179804, 'Justin Verlander (2011)')"
      ]
     },
     "execution_count": 117,
     "metadata": {},
     "output_type": "execute_result"
    },
    {
     "data": {
      "text/plain": [
       "Text(2.568243452928504, 2.800881851599461, 'Clayton Kershaw (2011)')"
      ]
     },
     "execution_count": 117,
     "metadata": {},
     "output_type": "execute_result"
    },
    {
     "data": {
      "text/plain": [
       "Text(3.369915726065584, 3.247509816175369, 'R.A. Dickey (2012)')"
      ]
     },
     "execution_count": 117,
     "metadata": {},
     "output_type": "execute_result"
    },
    {
     "data": {
      "text/plain": [
       "Text(3.1470587266755046, 3.232571988643452, 'David Price (2012)')"
      ]
     },
     "execution_count": 117,
     "metadata": {},
     "output_type": "execute_result"
    },
    {
     "data": {
      "text/plain": [
       "Text(2.4868374266866913, 2.988543610155045, 'Clayton Kershaw (2013)')"
      ]
     },
     "execution_count": 117,
     "metadata": {},
     "output_type": "execute_result"
    },
    {
     "data": {
      "text/plain": [
       "Text(2.8399227977697734, 2.909396820237892, 'Max Scherzer (2013)')"
      ]
     },
     "execution_count": 117,
     "metadata": {},
     "output_type": "execute_result"
    },
    {
     "data": {
      "text/plain": [
       "Text(2.4472450626348645, 2.6121526364876417, 'Corey Kluber (2014)')"
      ]
     },
     "execution_count": 117,
     "metadata": {},
     "output_type": "execute_result"
    },
    {
     "data": {
      "text/plain": [
       "Text(1.9112438330486312, 2.0873697980701875, 'Clayton Kershaw (2014)')"
      ]
     },
     "execution_count": 117,
     "metadata": {},
     "output_type": "execute_result"
    },
    {
     "data": {
      "text/plain": [
       "Text(3.009455833707212, 2.8390805172046254, 'Dallas Keuchel (2015)')"
      ]
     },
     "execution_count": 117,
     "metadata": {},
     "output_type": "execute_result"
    },
    {
     "data": {
      "text/plain": [
       "Text(2.447567601501342, 2.745919551774185, 'Jake Arrieta (2015)')"
      ]
     },
     "execution_count": 117,
     "metadata": {},
     "output_type": "execute_result"
    },
    {
     "data": {
      "text/plain": [
       "Text(3.497681459076201, 3.7794842586727935, 'Rick Porcello (2016)')"
      ]
     },
     "execution_count": 117,
     "metadata": {},
     "output_type": "execute_result"
    },
    {
     "data": {
      "text/plain": [
       "Text(3.338531187811431, 3.045684664173281, 'Max Scherzer (2016)')"
      ]
     },
     "execution_count": 117,
     "metadata": {},
     "output_type": "execute_result"
    },
    {
     "data": {
      "text/plain": [
       "Text(2.998503488157563, 2.976355347097688, 'Max Scherzer (2017)')"
      ]
     },
     "execution_count": 117,
     "metadata": {},
     "output_type": "execute_result"
    },
    {
     "data": {
      "text/plain": [
       "Text(2.5997018544779107, 2.6819544199347165, 'Corey Kluber (2017)')"
      ]
     },
     "execution_count": 117,
     "metadata": {},
     "output_type": "execute_result"
    },
    {
     "data": {
      "text/plain": [
       "Text(3.044564404949052, 3.299520814986216, 'Blake Snell (2018)')"
      ]
     },
     "execution_count": 117,
     "metadata": {},
     "output_type": "execute_result"
    },
    {
     "data": {
      "text/plain": [
       "Text(2.0853163684018754, 2.783694352050858, 'Jacob deGrom (2018)')"
      ]
     },
     "execution_count": 117,
     "metadata": {},
     "output_type": "execute_result"
    },
    {
     "data": {
      "text/plain": [
       "Text(2.7747937894334984, 3.2874872504897974, 'Jacob deGrom (2019)')"
      ]
     },
     "execution_count": 117,
     "metadata": {},
     "output_type": "execute_result"
    },
    {
     "data": {
      "text/plain": [
       "Text(3.3678211385829, 2.9516052608763834, 'Justin Verlander (2019)')"
      ]
     },
     "execution_count": 117,
     "metadata": {},
     "output_type": "execute_result"
    },
    {
     "data": {
      "text/plain": [
       "Text(0.5, 0, 'FIP')"
      ]
     },
     "execution_count": 117,
     "metadata": {},
     "output_type": "execute_result"
    },
    {
     "data": {
      "text/plain": [
       "Text(0, 0.5, 'SIERA')"
      ]
     },
     "execution_count": 117,
     "metadata": {},
     "output_type": "execute_result"
    },
    {
     "data": {
      "text/plain": [
       "Text(0.5, 1.0, 'SIERA vs. FIP  Cy Young Winners (2010-2019)')"
      ]
     },
     "execution_count": 117,
     "metadata": {},
     "output_type": "execute_result"
    },
    {
     "data": {
      "image/png": "[encoded data removed]",
      "text/plain": [
       "<Figure size 800x600 with 1 Axes>"
      ]
     },
     "metadata": {},
     "output_type": "display_data"
    }
   ],
   "source": [
    "plt.figure(figsize=(8, 6))\n",
    "\n",
    "sns.scatterplot(x=Cy_Young_2010_2019['FIP'], y=Cy_Young_2010_2019['SIERA'], \n",
    "                palette=\"coolwarm\", sizes=(50, 200))\n",
    "\n",
    "\n",
    "for i in range(len(Cy_Young_2010_2019)):\n",
    "    plt.text(Cy_Young_2010_2019['FIP'].iloc[i] + 0.1, \n",
    "             Cy_Young_2010_2019['SIERA'].iloc[i],\n",
    "             f\"{Cy_Young_2010_2019['Name'].iloc[i]} ({Cy_Young_2010_2019['Season'].iloc[i]})\",\n",
    "             fontsize=6, ha='left', va='center')\n",
    "\n",
    "plt.xlabel(\"FIP\")\n",
    "plt.ylabel(\"SIERA\")\n",
    "plt.title(\"SIERA vs. FIP  Cy Young Winners (2010-2019)\")\n",
    "plt.savefig(\"FIP vs SIERA .png\", dpi=300, bbox_inches=\"tight\")\n",
    "plt.show()"
   ]
  },
  {
   "cell_type": "code",
   "execution_count": 105,
   "id": "81918341-6a29-4b0d-8a28-e63914e26844",
   "metadata": {},
   "outputs": [
    {
     "data": {
      "text/plain": [
       "<Figure size 1000x600 with 0 Axes>"
      ]
     },
     "execution_count": 105,
     "metadata": {},
     "output_type": "execute_result"
    },
    {
     "name": "stderr",
     "output_type": "stream",
     "text": [
      "C:\\Users\\xande\\AppData\\Local\\Temp\\ipykernel_6288\\3223287586.py:14: FutureWarning: \n",
      "\n",
      "Passing `palette` without assigning `hue` is deprecated and will be removed in v0.14.0. Assign the `y` variable to `hue` and set `legend=False` for the same effect.\n",
      "\n",
      "  sns.barplot(x='FIP', y='Name', data=top_fips_sorted, palette=\"coolwarm\")\n"
     ]
    },
    {
     "data": {
      "text/plain": [
       "<Axes: xlabel='FIP', ylabel='Name'>"
      ]
     },
     "execution_count": 105,
     "metadata": {},
     "output_type": "execute_result"
    },
    {
     "data": {
      "text/plain": [
       "Text(3.417681459076201, 0, 'Rick Porcello (3.4)')"
      ]
     },
     "execution_count": 105,
     "metadata": {},
     "output_type": "execute_result"
    },
    {
     "data": {
      "text/plain": [
       "Text(3.289915726065584, 1, 'R.A. Dickey (3.27)')"
      ]
     },
     "execution_count": 105,
     "metadata": {},
     "output_type": "execute_result"
    },
    {
     "data": {
      "text/plain": [
       "Text(3.2878211385829, 2, 'Justin Verlander (3.27)')"
      ]
     },
     "execution_count": 105,
     "metadata": {},
     "output_type": "execute_result"
    },
    {
     "data": {
      "text/plain": [
       "Text(2.3672450626348644, 3, 'Corey Kluber (2.35)')"
      ]
     },
     "execution_count": 105,
     "metadata": {},
     "output_type": "execute_result"
    },
    {
     "data": {
      "text/plain": [
       "Text(2.0053163684018753, 4, 'Jacob deGrom (1.99)')"
      ]
     },
     "execution_count": 105,
     "metadata": {},
     "output_type": "execute_result"
    },
    {
     "data": {
      "text/plain": [
       "Text(1.8312438330486311, 5, 'Clayton Kershaw (1.81)')"
      ]
     },
     "execution_count": 105,
     "metadata": {},
     "output_type": "execute_result"
    },
    {
     "data": {
      "text/plain": [
       "Text(0.5, 1.0, 'Top 3 Lowest and Highest FIPs of Cy Young Winners (2010-2019)')"
      ]
     },
     "execution_count": 105,
     "metadata": {},
     "output_type": "execute_result"
    },
    {
     "data": {
      "text/plain": [
       "Text(0.5, 0, 'Fielding Independent Pitching (FIP)')"
      ]
     },
     "execution_count": 105,
     "metadata": {},
     "output_type": "execute_result"
    },
    {
     "data": {
      "text/plain": [
       "Text(0, 0.5, 'Player')"
      ]
     },
     "execution_count": 105,
     "metadata": {},
     "output_type": "execute_result"
    },
    {
     "data": {
      "image/png": "[encoded data removed]",
      "text/plain": [
       "<Figure size 1000x600 with 1 Axes>"
      ]
     },
     "metadata": {},
     "output_type": "display_data"
    }
   ],
   "source": [
    "\n",
    "al_data = Cy_Young_2010_2019[Cy_Young_2010_2019['League'] == 'AL']\n",
    "nl_data = Cy_Young_2010_2019[Cy_Young_2010_2019['League'] == 'NL']\n",
    "\n",
    "combined_data = pd.concat([al_data, nl_data])\n",
    "\n",
    "lowest_fips = combined_data.nsmallest(3, 'FIP')\n",
    "highest_fips = combined_data.nlargest(3, 'FIP')\n",
    "\n",
    "top_fips = pd.concat([lowest_fips, highest_fips])\n",
    "\n",
    "top_fips_sorted = top_fips.sort_values('FIP', ascending=False)\n",
    "\n",
    "plt.figure(figsize=(10, 6))\n",
    "sns.barplot(x='FIP', y='Name', data=top_fips_sorted, palette=\"coolwarm\")\n",
    "\n",
    "top_fips_sorted['Label'] = top_fips_sorted['Name'] + ' (' + top_fips_sorted['FIP'].round(2).astype(str) + ')'\n",
    "\n",
    "for i in range(top_fips_sorted.shape[0]):\n",
    "    plt.text(top_fips_sorted['FIP'].iloc[i] + 0.02, i, top_fips_sorted['Label'].iloc[i], fontsize=9, va='center', ha='left')\n",
    "\n",
    "plt.title(\"Top 3 Lowest and Highest FIPs of Cy Young Winners (2010-2019)\", fontsize=14)\n",
    "plt.xlabel(\"Fielding Independent Pitching (FIP)\", fontsize=12)\n",
    "plt.ylabel(\"Player\", fontsize=12)\n",
    "\n",
    "plt.tight_layout()\n",
    "plt.savefig(\"cy_young_fip_chart.png\", dpi=300, bbox_inches=\"tight\")\n",
    "plt.show()"
   ]
  },
  {
   "cell_type": "code",
   "execution_count": null,
   "id": "7824c7de-4260-4b12-b696-bc704014a66b",
   "metadata": {},
   "outputs": [],
   "source": []
  }
 ],
 "metadata": {
  "kernelspec": {
   "display_name": "Python [conda env:base] *",
   "language": "python",
   "name": "conda-base-py"
  },
  "language_info": {
   "codemirror_mode": {
    "name": "ipython",
    "version": 3
   },
   "file_extension": ".py",
   "mimetype": "text/x-python",
   "name": "python",
   "nbconvert_exporter": "python",
   "pygments_lexer": "ipython3",
   "version": "3.12.7"
  }
 },
 "nbformat": 4,
 "nbformat_minor": 5
}
